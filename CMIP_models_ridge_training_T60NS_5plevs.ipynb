{
 "cells": [
  {
   "cell_type": "code",
   "execution_count": 1,
   "metadata": {},
   "outputs": [
    {
     "data": {
      "text/html": [
       "<style>.container { width:100% !important; }</style>"
      ],
      "text/plain": [
       "<IPython.core.display.HTML object>"
      ]
     },
     "metadata": {},
     "output_type": "display_data"
    }
   ],
   "source": [
    "from IPython.core.display import display, HTML\n",
    "display(HTML(\"<style>.container { width:100% !important; }</style>\"))"
   ]
  },
  {
   "cell_type": "code",
   "execution_count": 2,
   "metadata": {},
   "outputs": [],
   "source": [
    "import warnings\n",
    "warnings.filterwarnings('ignore')"
   ]
  },
  {
   "cell_type": "code",
   "execution_count": 3,
   "metadata": {},
   "outputs": [],
   "source": [
    "import numpy as np\n",
    "import sys\n",
    "import pandas as pd\n",
    "import scipy\n",
    "from scipy import stats\n",
    "import netCDF4\n",
    "import matplotlib.pyplot as plt\n",
    "import matplotlib as mpl\n",
    "import matplotlib.cm as cm\n",
    "import matplotlib.colors as colors\n",
    "from matplotlib.ticker import MultipleLocator, FormatStrFormatter\n",
    "from matplotlib import rcParams\n",
    "import cartopy.crs as ccrs\n",
    "from sklearn.preprocessing import StandardScaler\n",
    "import sklearn\n",
    "from sklearn.ensemble import RandomForestRegressor\n",
    "from sklearn.model_selection import train_test_split\n",
    "from sklearn.model_selection import cross_val_score\n",
    "from sklearn.model_selection import GridSearchCV\n",
    "from sklearn.model_selection import TimeSeriesSplit\n",
    "from sklearn.model_selection import KFold\n",
    "from sklearn.metrics import mean_squared_error\n",
    "from sklearn.metrics import r2_score\n",
    "from sklearn.linear_model import Ridge\n",
    "import joblib\n",
    "import glob"
   ]
  },
  {
   "cell_type": "code",
   "execution_count": 4,
   "metadata": {},
   "outputs": [],
   "source": [
    "### create lists of model groups\n",
    "### all possible CMIP5/CMIP6 models\n",
    "model_list = ['ACCESS1-0', 'ACCESS1-3', 'ACCESS-CM2', 'ACCESS-ESM1-5', 'AWI-CM-1-1-MR', 'bcc-csm1-1_',\n",
    "             'bcc-csm1-1-m','BCC-CSM2-MR_', 'BCC-ESM1', 'BNU-ESM', 'CAMS-CSM1-0', 'CanESM2', 'CanESM5',\n",
    "             'CCSM4', 'CESM2_', 'CESM2-WACCM', 'CNRM-CM5', 'CNRM-CM6-1','CNRM-ESM2-1','CSIRO-Mk3-6-0', 'E3SM-1-0', 'EC-Earth3-Veg', 'EC-EARTH', 'FGOALS-f3-L', 'FGOALS-g2', 'FGOALS-g3', \n",
    "             'GFDL-CM3', 'GFDL-CM4', 'GFDL-ESM2G', 'GFDL-ESM2M', 'GFDL-ESM4',\n",
    "             'GISS-E2-1-G', 'GISS-E2-1-H', 'GISS-E2-H', 'GISS-E2-R', 'HadGEM2-ES', 'HadGEM3-GC31-LL',\n",
    "             'HadGEM3-GC31-MM', 'inmcm4', 'INM-CM4-8', 'INM-CM5-0', 'IPSL-CM5A-MR', 'IPSL-CM5B-LR', 'IPSL-CM6A-LR',\n",
    "             'MIROC5', 'MIROC6', 'MIROC-ES2L', 'MIROC-ESM', 'MPI-ESM1-2-HR', 'MPI-ESM1-2-LR', 'MPI-ESM-LR', 'MPI-ESM-MR', 'MPI-ESM-P', 'MRI-CGCM3',\n",
    "             'MRI-ESM2-0', 'NESM3', 'NorESM1-M', 'NorESM2-LM', 'NorESM2-MM', 'SAM0-UNICON', 'UKESM1-0-LL']\n",
    "### just CMIP5\n",
    "model_list_cmip5 = ['ACCESS1-0', 'ACCESS1-3', 'bcc-csm1-1_', 'bcc-csm1-1-m', 'BNU-ESM', 'CanESM2', 'CCSM4', 'CNRM-CM5', 'CSIRO-Mk3-6-0', 'EC-EARTH', 'FGOALS-g2', 'GFDL-CM3', \n",
    "               'GFDL-ESM2G', 'GFDL-ESM2M', 'GISS-E2-H', 'GISS-E2-R', 'HadGEM2-ES', 'inmcm4', 'IPSL-CM5A-MR', 'IPSL-CM5B-LR', 'MIROC5', 'MIROC-ESM', 'MPI-ESM-LR', 'MPI-ESM-MR', \n",
    "                    'MPI-ESM-P', 'MRI-CGCM3', 'NorESM1-M']\n",
    "### list for nicer labels later\n",
    "model_list_cmip5_labels = ['ACCESS1-0', 'ACCESS1-3', 'BCC-CSM1-1', 'BCC-CSM1-1-m', 'BNU-ESM', 'CanESM2', 'CCSM4', 'CNRM-CM5', 'CSIRO-Mk3-6-0', 'EC-EARTH', 'FGOALS-g2', \n",
    "                           'GFDL-CM3', 'GFDL-ESM2G', 'GFDL-ESM2M', 'GISS-E2-H', 'GISS-E2-R', 'HadGEM2-ES', 'INM-CM4', 'IPSL-CM5A-MR', 'IPSL-CM5B-LR', 'MIROC5', 'MIROC-ESM', 'MPI-ESM-LR', 'MPI-ESM-MR',\n",
    "                           'MPI-ESM-P', 'MRI-CGCM3', 'NorESM1-M']\n",
    "### just CMIP6\n",
    "model_list_cmip6 = ['ACCESS-CM2', 'ACCESS-ESM1-5', 'AWI-CM-1-1-MR', 'BCC-CSM2-MR_', 'BCC-ESM1', 'CAMS-CSM1-0', 'CanESM5',\n",
    "             'CESM2_', 'CESM2-WACCM', 'CNRM-CM6-1','CNRM-ESM2-1', 'E3SM-1-0', 'EC-Earth3-Veg', 'FGOALS-f3-L', 'FGOALS-g3', \n",
    "             'GFDL-CM4', 'GFDL-ESM4', 'GISS-E2-1-G', 'GISS-E2-1-H', 'HadGEM3-GC31-LL', 'HadGEM3-GC31-MM', 'INM-CM4-8', 'INM-CM5-0', 'IPSL-CM6A-LR',\n",
    "             'MIROC6', 'MIROC-ES2L', 'MPI-ESM1-2-HR', 'MPI-ESM1-2-LR', 'MRI-ESM2-0', 'NESM3', 'NorESM2-LM', 'NorESM2-MM', 'SAM0-UNICON', 'UKESM1-0-LL']\n",
    "model_list_cmip6_labels = ['ACCESS-CM2', 'ACCESS-ESM1-5', 'AWI-CM-1-1-MR', 'BCC-CSM2-MR', 'BCC-ESM1', 'CAMS-CSM1-0', 'CanESM5',\n",
    "             'CESM2', 'CESM2-WACCM', 'CNRM-CM6-1','CNRM-ESM2-1', 'E3SM-1-0', 'EC-Earth3-Veg', 'FGOALS-f3-L', 'FGOALS-g3', \n",
    "             'GFDL-CM4', 'GFDL-ESM4', 'GISS-E2-1-G', 'GISS-E2-1-H', 'HadGEM3-GC31-LL', 'HadGEM3-GC31-MM', 'INM-CM4-8', 'INM-CM5-0', 'IPSL-CM6A-LR',\n",
    "             'MIROC6', 'MIROC-ES2L', 'MPI-ESM1-2-HR', 'MPI-ESM1-2-LR', 'MRI-ESM2-0', 'NESM3', 'NorESM2-LM', 'NorESM2-MM', 'SAM0-UNICON', 'UKESM1-0-LL']\n",
    "### a couple more lists needed later for models that don't match SWOOSH data availability exactly in time\n",
    "model_list_cmip5_1968 = ['MPI-ESM-P']\n",
    "model_list_cmip6_1977 = ['CESM2_', 'E3SM-1-0', 'EC-Earth3-Veg', 'FGOALS-f3-L', 'FGOALS-g3', 'GISS-E2-1-H', 'HadGEM3-GC31-LL', 'HadGEM3-GC31-MM', 'INM-CM4-8', \n",
    "                         'INM-CM5-0', 'MIROC-ES2L', 'MPI-ESM1-2-HR', 'MPI-ESM1-2-LR', 'NESM3', 'NorESM2-LM', 'NorESM2-MM', 'SAM0-UNICON']"
   ]
  },
  {
   "cell_type": "code",
   "execution_count": 5,
   "metadata": {},
   "outputs": [
    {
     "name": "stdout",
     "output_type": "stream",
     "text": [
      "61\n",
      "27\n",
      "34\n"
     ]
    }
   ],
   "source": [
    "print(len(model_list))\n",
    "print(len(model_list_cmip5))\n",
    "print(len(model_list_cmip6))"
   ]
  },
  {
   "cell_type": "code",
   "execution_count": 6,
   "metadata": {},
   "outputs": [],
   "source": [
    "### all models have been interpolated to the same 5x5 degree grid for temperature (=predictors in ridge regressions)\n",
    "lat = netCDF4.Dataset('./data/cmip/ta/ta_Amon_ACCESS-CM2_historical-ssp_r1i1p1f1_gn.nc')['lat'][:]"
   ]
  },
  {
   "cell_type": "code",
   "execution_count": 7,
   "metadata": {},
   "outputs": [
    {
     "name": "stdout",
     "output_type": "stream",
     "text": [
      "[-57.5 -52.5 -47.5 -42.5 -37.5 -32.5 -27.5 -22.5 -17.5 -12.5  -7.5  -2.5\n",
      "   2.5   7.5  12.5  17.5  22.5  27.5  32.5  37.5  42.5  47.5  52.5  57.5]\n"
     ]
    }
   ],
   "source": [
    "### define indices to select temperature predictors within 60N-60S\n",
    "print(lat[6:30])\n",
    "la=6\n",
    "lb=30"
   ]
  },
  {
   "cell_type": "code",
   "execution_count": 8,
   "metadata": {},
   "outputs": [
    {
     "name": "stdout",
     "output_type": "stream",
     "text": [
      "[[ 72  86  87  88  92  93  94  95  96  97  98  99 100 101 102 103 104 105\n",
      "  106 107 108 109 110 111 114 116 117 118 120 121 122 123 124 126 127 128\n",
      "  129 130 132 134 135 136 138 140 141 142 144 146 147 150 152 153 154 155\n",
      "  156 157 158 159 161 163 164 165 167 168 169 170 171 173 174 175 176 177\n",
      "  179 181 182 183 185 187 188 189 191 193 194 195 197 199 200 201 203 205\n",
      "  206 207 209 211 212 213 214 215 217 218 219 220 221 223 226 228 229 230\n",
      "  232 233 234 235 237 238 240 241 244 246 247 248 249 250 251 252 253 254\n",
      "  255 256 257 258 259 260 261 262 263 264 265 266 267 268 269 270 271 272\n",
      "  273 274 275 276 277 278 279 280 281 282 283 284 285 286 287 288 289 290\n",
      "  291 292 293 294 295 296 297 298 299 300 301 302 303 304 305 306 307 308\n",
      "  309 310 311 312 313 314 315 316 317 318 319 320 321 322 323 324 325 326\n",
      "  327 328 329 330 331 332 333 334 335 336 337 338 339 340 341 342 343 344\n",
      "  345 346 347 348 349 350 351 352 353 354 355 356 357 358 359 360 361 362\n",
      "  363 364 365 366 367 368 369 370 371 372 373 374 375 376 377 378 379 380\n",
      "  381 382 383 384 385 386 387 388 389 390 391 392 393 394 395 396 397 398\n",
      "  399 400 401 402 403 404 405 406 407 408 409 410 411 412 413 414 415 416\n",
      "  417 418 419 420 421 422 423 424 425 426 427 428 429 430 431 432 433 434\n",
      "  435 436 437 438 439 440 441 442 443]]\n",
      "(1, 315)\n"
     ]
    }
   ],
   "source": [
    "### load 50 realisations of tropical 68 hPa SWOOSH (reflecting sampling and observational uncertainty)\n",
    "swoosh_tropics = netCDF4.Dataset('./data/swoosh/SWOOSH_samples_scaleSE_1.0_scaleB_1.0_nsamples_50_aura5_finalNatGeo.nc')['samples'][:,:]\n",
    "non_nan_indices = np.argwhere(~np.isnan(swoosh_tropics[:,0])).T\n",
    "### only 315 monthly samples will actually be selected (only months where actual observations in the tropics, 68 hPa are available)\n",
    "print(non_nan_indices[:])\n",
    "print(non_nan_indices[:].shape)"
   ]
  },
  {
   "cell_type": "code",
   "execution_count": 9,
   "metadata": {},
   "outputs": [],
   "source": [
    "### nr_lat after selection\n",
    "nr_lat=len(lat[la:lb])\n",
    "nr_lon=72\n",
    "nr_models=len(model_list)\n",
    "### up to seven vertical levels were used in the test = #\"planes\" (i.e. is the vertical dimension of the temperature data read in later)\n",
    "nr_planes=7"
   ]
  },
  {
   "cell_type": "code",
   "execution_count": 11,
   "metadata": {},
   "outputs": [],
   "source": [
    "### define range for the regluarization parameter to be searched over\n",
    "### it doesn't harm for this to be a large range; main point is that the alpha that is eventually selected falls within the range\n",
    "### and one might also want to set a certain level of minimum regularization\n",
    "alpha_i=[0.0001,0.0003,0.001,0.003,0.01,0.03,0.1,0.3,1,2,4,6,8,10,12,14,16,18,20,25,30,40,50,60,70,80,90,100,150,200,250,300,400,500,600,700,800,900,1000,3000,5000,10000,12000,14000,16000,18000,20000,25000,30000,50000,100000,300000,1e6,3e6,1e7,3e7,1e8]"
   ]
  },
  {
   "cell_type": "code",
   "execution_count": 12,
   "metadata": {},
   "outputs": [],
   "source": [
    "### prepare for data storage\n",
    "dict_regr_results = {}"
   ]
  },
  {
   "cell_type": "code",
   "execution_count": 13,
   "metadata": {},
   "outputs": [],
   "source": [
    "### empty arrays to later store the learned coefficients/parameters, the ridge predictions, and predicted values under 4xCO2\n",
    "### note we use only five vertical levels here for temperature\n",
    "coeffs = np.empty((nr_models,nr_planes-2,nr_lat,nr_lon))\n",
    "y_true_all = np.empty((nr_models))\n",
    "y_pred_all = np.empty((nr_models))\n",
    "y_true_all_4xco2 = np.empty((nr_models))\n",
    "y_pred_all_4xco2 = np.empty((nr_models))"
   ]
  },
  {
   "cell_type": "code",
   "execution_count": 14,
   "metadata": {},
   "outputs": [
    {
     "name": "stdout",
     "output_type": "stream",
     "text": [
      "444\n"
     ]
    }
   ],
   "source": [
    "nt_train=len(swoosh_tropics[:,0])\n",
    "print(nt_train)\n",
    "### define the lag for the temperature to be considered over (in months)\n",
    "lag=2"
   ]
  },
  {
   "cell_type": "code",
   "execution_count": 15,
   "metadata": {},
   "outputs": [],
   "source": [
    "### empty arrays to later save the change in ppmv per degree warming under 4xCO2, calculated from annually averaged data\n",
    "feedbacks_true_am = np.empty((nr_models))\n",
    "feedbacks_pred_am = np.empty((nr_models))"
   ]
  },
  {
   "cell_type": "code",
   "execution_count": 16,
   "metadata": {},
   "outputs": [
    {
     "name": "stdout",
     "output_type": "stream",
     "text": [
      "[[ 70  84  85  86  90  91  92  93  94  95  96  97  98  99 100 101 102 103\n",
      "  104 105 106 107 108 109 112 114 115 116 118 119 120 121 122 124 125 126\n",
      "  127 128 130 132 133 134 136 138 139 140 142 144 145 148 150 151 152 153\n",
      "  154 155 156 157 159 161 162 163 165 166 167 168 169 171 172 173 174 175\n",
      "  177 179 180 181 183 185 186 187 189 191 192 193 195 197 198 199 201 203\n",
      "  204 205 207 209 210 211 212 213 215 216 217 218 219 221 224 226 227 228\n",
      "  230 231 232 233 235 236 238 239 242 244 245 246 247 248 249 250 251 252\n",
      "  253 254 255 256 257 258 259 260 261 262 263 264 265 266 267 268 269 270\n",
      "  271 272 273 274 275 276 277 278 279 280 281 282 283 284 285 286 287 288\n",
      "  289 290 291 292 293 294 295 296 297 298 299 300 301 302 303 304 305 306\n",
      "  307 308 309 310 311 312 313 314 315 316 317 318 319 320 321 322 323 324\n",
      "  325 326 327 328 329 330 331 332 333 334 335 336 337 338 339 340 341 342\n",
      "  343 344 345 346 347 348 349 350 351 352 353 354 355 356 357 358 359 360\n",
      "  361 362 363 364 365 366 367 368 369 370 371 372 373 374 375 376 377 378\n",
      "  379 380 381 382 383 384 385 386 387 388 389 390 391 392 393 394 395 396\n",
      "  397 398 399 400 401 402 403 404 405 406 407 408 409 410 411 412 413 414\n",
      "  415 416 417 418 419 420 421 422 423 424 425 426 427 428 429 430 431 432\n",
      "  433 434 435 436 437 438 439 440 441]]\n"
     ]
    }
   ],
   "source": [
    "#### shift non-nan by lag; lose the first nr lag time steps (need past temperature information to predict current SWV values)\n",
    "non_nan_indices_lag = non_nan_indices-2\n",
    "print(non_nan_indices_lag)"
   ]
  },
  {
   "cell_type": "code",
   "execution_count": 17,
   "metadata": {
    "scrolled": false
   },
   "outputs": [
    {
     "name": "stdout",
     "output_type": "stream",
     "text": [
      "ACCESS1-0\n",
      "Ridge(alpha=18000, max_iter=1000, random_state=100)\n",
      "ACCESS1-3\n",
      "Ridge(alpha=5000, max_iter=1000, random_state=100)\n",
      "ACCESS-CM2\n",
      "Ridge(alpha=1000, max_iter=1000, random_state=100)\n",
      "ACCESS-ESM1-5\n",
      "Ridge(alpha=3000, max_iter=1000, random_state=100)\n",
      "AWI-CM-1-1-MR\n",
      "Ridge(alpha=1000, max_iter=1000, random_state=100)\n",
      "bcc-csm1-1_\n",
      "Ridge(alpha=3000, max_iter=1000, random_state=100)\n",
      "bcc-csm1-1-m\n",
      "Ridge(alpha=100, max_iter=1000, random_state=100)\n",
      "BCC-CSM2-MR_\n",
      "Ridge(alpha=500, max_iter=1000, random_state=100)\n",
      "BCC-ESM1\n",
      "Ridge(alpha=1000, max_iter=1000, random_state=100)\n",
      "BNU-ESM\n",
      "Ridge(alpha=0.003, max_iter=1000, random_state=100)\n",
      "CAMS-CSM1-0\n",
      "Ridge(alpha=3000, max_iter=1000, random_state=100)\n",
      "CanESM2\n",
      "Ridge(alpha=12000, max_iter=1000, random_state=100)\n",
      "CanESM5\n",
      "Ridge(alpha=3000, max_iter=1000, random_state=100)\n",
      "CCSM4\n",
      "Ridge(alpha=3000, max_iter=1000, random_state=100)\n",
      "CESM2_\n",
      "Ridge(alpha=5000, max_iter=1000, random_state=100)\n",
      "CESM2-WACCM\n",
      "Ridge(alpha=1000, max_iter=1000, random_state=100)\n",
      "CNRM-CM5\n",
      "Ridge(alpha=5000, max_iter=1000, random_state=100)\n",
      "CNRM-CM6-1\n",
      "Ridge(alpha=3000, max_iter=1000, random_state=100)\n",
      "CNRM-ESM2-1\n",
      "Ridge(alpha=10000, max_iter=1000, random_state=100)\n",
      "CSIRO-Mk3-6-0\n",
      "Ridge(alpha=50000, max_iter=1000, random_state=100)\n",
      "E3SM-1-0\n",
      "Ridge(alpha=5000, max_iter=1000, random_state=100)\n",
      "EC-Earth3-Veg\n",
      "Ridge(alpha=700, max_iter=1000, random_state=100)\n",
      "EC-EARTH\n",
      "Ridge(alpha=16000, max_iter=1000, random_state=100)\n",
      "FGOALS-f3-L\n",
      "Ridge(alpha=1000, max_iter=1000, random_state=100)\n",
      "FGOALS-g2\n",
      "Ridge(alpha=250, max_iter=1000, random_state=100)\n",
      "FGOALS-g3\n",
      "Ridge(alpha=500, max_iter=1000, random_state=100)\n",
      "GFDL-CM3\n",
      "Ridge(alpha=0.0001, max_iter=1000, random_state=100)\n",
      "GFDL-CM4\n",
      "Ridge(alpha=3000, max_iter=1000, random_state=100)\n",
      "GFDL-ESM2G\n",
      "Ridge(alpha=30000, max_iter=1000, random_state=100)\n",
      "GFDL-ESM2M\n",
      "Ridge(alpha=50000, max_iter=1000, random_state=100)\n",
      "GFDL-ESM4\n",
      "Ridge(alpha=1000, max_iter=1000, random_state=100)\n",
      "GISS-E2-1-G\n",
      "Ridge(alpha=1000, max_iter=1000, random_state=100)\n",
      "GISS-E2-1-H\n",
      "Ridge(alpha=0.003, max_iter=1000, random_state=100)\n",
      "GISS-E2-H\n",
      "Ridge(alpha=20000, max_iter=1000, random_state=100)\n",
      "GISS-E2-R\n",
      "Ridge(alpha=30000, max_iter=1000, random_state=100)\n",
      "HadGEM2-ES\n",
      "Ridge(alpha=16000, max_iter=1000, random_state=100)\n",
      "HadGEM3-GC31-LL\n",
      "Ridge(alpha=1000, max_iter=1000, random_state=100)\n",
      "HadGEM3-GC31-MM\n",
      "Ridge(alpha=5000, max_iter=1000, random_state=100)\n",
      "inmcm4\n",
      "Ridge(alpha=3000, max_iter=1000, random_state=100)\n",
      "INM-CM4-8\n",
      "Ridge(alpha=3000, max_iter=1000, random_state=100)\n",
      "INM-CM5-0\n",
      "Ridge(alpha=1000, max_iter=1000, random_state=100)\n",
      "IPSL-CM5A-MR\n",
      "Ridge(alpha=1000, max_iter=1000, random_state=100)\n",
      "IPSL-CM5B-LR\n",
      "Ridge(alpha=1000, max_iter=1000, random_state=100)\n",
      "IPSL-CM6A-LR\n",
      "Ridge(alpha=10000, max_iter=1000, random_state=100)\n",
      "MIROC5\n",
      "Ridge(alpha=800, max_iter=1000, random_state=100)\n",
      "MIROC6\n",
      "Ridge(alpha=3000, max_iter=1000, random_state=100)\n",
      "MIROC-ES2L\n",
      "Ridge(alpha=3000, max_iter=1000, random_state=100)\n",
      "MIROC-ESM\n",
      "Ridge(alpha=1000, max_iter=1000, random_state=100)\n",
      "MPI-ESM1-2-HR\n",
      "Ridge(alpha=1000, max_iter=1000, random_state=100)\n",
      "MPI-ESM1-2-LR\n",
      "Ridge(alpha=800, max_iter=1000, random_state=100)\n",
      "MPI-ESM-LR\n",
      "Ridge(alpha=500, max_iter=1000, random_state=100)\n",
      "MPI-ESM-MR\n",
      "Ridge(alpha=5000, max_iter=1000, random_state=100)\n",
      "MPI-ESM-P\n",
      "Ridge(alpha=0.001, max_iter=1000, random_state=100)\n",
      "MRI-CGCM3\n",
      "Ridge(alpha=5000, max_iter=1000, random_state=100)\n",
      "MRI-ESM2-0\n",
      "Ridge(alpha=0.01, max_iter=1000, random_state=100)\n",
      "NESM3\n",
      "Ridge(alpha=600, max_iter=1000, random_state=100)\n",
      "NorESM1-M\n",
      "Ridge(alpha=1000, max_iter=1000, random_state=100)\n",
      "NorESM2-LM\n",
      "Ridge(alpha=3000, max_iter=1000, random_state=100)\n",
      "NorESM2-MM\n",
      "Ridge(alpha=5000, max_iter=1000, random_state=100)\n",
      "SAM0-UNICON\n",
      "Ridge(alpha=900, max_iter=1000, random_state=100)\n",
      "UKESM1-0-LL\n",
      "Ridge(alpha=1000, max_iter=1000, random_state=100)\n"
     ]
    }
   ],
   "source": [
    "## target figure x/y ratio\n",
    "plt.rcParams['figure.figsize'] = [20, 4]\n",
    "### now fit individual ridge regressions for the CMIP models\n",
    "### make list to keep track of best alpha values. Needed to adjust search range if current one is not sufficient\n",
    "alpha_list=[]\n",
    "### select months that are not masked in SWOOSH, but for temperature (includes lags)\n",
    "months = np.array(non_nan_indices_lag.flatten())\n",
    "### run this once for all 61 CMIP5/CMIP6 models\n",
    "for modeli in range(0,nr_models):\n",
    "    print(model_list[modeli])\n",
    "    ### load temperature ta data for model i on five pressure levels\n",
    "    ### note this is preprocessed data using cdo operators. The data folder will be made available ('Data Availability' statement)\n",
    "    ### using ncdump -h you can trace the series of commands (selection of vertical levels, time period, and regridding for all files, depending on the CMIP model and its data availability)\n",
    "    ### For one of the MIROC models vertical levels needed to be manually sub-selected due to a higher vertical resolution provided in the CMIP output\n",
    "    X_raw_hist = netCDF4.Dataset(glob.glob('./data/cmip/ta/ta*'+model_list[modeli]+'*historical*.nc')[0])['ta'][:nt_train,1:nr_planes-1,la:lb,:]\n",
    "    pressure_levels = netCDF4.Dataset(glob.glob('./data/cmip/ta/ta*'+model_list[modeli]+'*historical*.nc')[0])['plev'][1:nr_planes-1]\n",
    "    # check we really fetched the correct levels etc for all models\n",
    "#     print(X_raw_hist.shape)\n",
    "#     print(pressure_levels)\n",
    "    X_raw_hist = X_raw_hist.reshape(nt_train,nr_lon*nr_lat*(nr_planes-2))\n",
    "    # redundant renaming; useful line if other transformations of temperature shall be used as well for prediction\n",
    "    ### add lags...two months into the past turned out empirically to be the best compromise\n",
    "    ### note the lag introduced here, which is accounted for above for the later masking of indices already\n",
    "    X_lag_hist = np.hstack((X_raw_hist[lag:,:],X_raw_hist[lag-1:-1,:],X_raw_hist[lag-2:-2,:]))\n",
    "#     print(X_lag_hist.shape)\n",
    "    ### index to select 70 hPa SWV data from the CMIP simulations (files also contain 100 hPa)\n",
    "    level_selected=1\n",
    "    ### now load SWV data; convert kg/kg air to volume mixing ratios in ppmv\n",
    "    ### previous cdo commands: time merging and selection (model-dependent), selection of two pressure levels (100, 70 hPa), zonal and 30N-30S averaging\n",
    "    Y_raw_hist = netCDF4.Dataset(glob.glob('./data/cmip/hus/hus*'+model_list[modeli]+'*historical*.nc')[0])['hus'][:nt_train,level_selected,0,0]*1e6/0.6213\n",
    "    ### subselect samples according to SWOOSH mask and when simulations start (not all timelines are the same due to missing data, see Online Methods)\n",
    "    if model_list[modeli] in model_list_cmip5_1968:\n",
    "### first 192 months can be considered fully covered for the model, similar to the last 192 months in SWOOSH. Critical is the masking from 72+192 onwards; covering Pinatubo\n",
    "        shifted_months = months[:-192]+192\n",
    "        months_modeli = np.concatenate([np.arange(0,192),shifted_months])\n",
    "    elif model_list[modeli] in model_list_cmip6_1977:\n",
    "        shifted_months = months[:-84]+84\n",
    "        months_modeli = np.concatenate([np.arange(0,84),shifted_months])\n",
    "    else:\n",
    "        months_modeli = months\n",
    "    ### take logarithm of SWV vmr, since we know of the approx. exponential dependency on temperature; other approximative transformations (and combinations thereof) \n",
    "    ### have been attempted but did not perform better\n",
    "    Y_hist = np.log(Y_raw_hist)\n",
    "    ### create dictionary to save all final functions for easy recovery later\n",
    "    regressors_col = {}\n",
    "    ### define parameters for ridge regression, including alpha range to be searched over (see above)\n",
    "    parameters = {\n",
    "    'alpha': alpha_i,\n",
    "    'fit_intercept': [True],\n",
    "    'max_iter':[1000],\n",
    "    'random_state':[100]\n",
    "             }\n",
    "    ### define object for k-fold cross-validation; keep time order as there is lagged structure in the data\n",
    "    cv_obj = KFold(n_splits=5,shuffle=False)\n",
    "    ### drop unobserved samples before fitting the scaler\n",
    "    X_lag_hist = X_lag_hist[months_modeli,:]\n",
    "    ### apply standard scaling to the temperature data\n",
    "    scaler = StandardScaler()\n",
    "    X_train_norm = scaler.fit_transform(X_lag_hist[:,:])\n",
    "    del X_raw_hist, X_lag_hist, Y_raw_hist\n",
    "    ### define regression/cross-validation object\n",
    "    regr = GridSearchCV(Ridge(),parameters,cv=cv_obj,n_jobs=-1,refit=True)\n",
    "    ### select hus - minus lag (there is no temperature data to predict) / does not reduce sample size as the first 1984 hus samples are not in SWOOSH anyway\n",
    "    Y_hist = Y_hist[lag:]\n",
    "    ### now select observed indices; already subtracted lag in cell above to accommodate for the shift\n",
    "    Y_hist = Y_hist[months_modeli]\n",
    "    ### now fit ridge regression, including cross-validation\n",
    "    regr.fit(X_train_norm[:,:],Y_hist[:])\n",
    "    ### save regr model \n",
    "    dict_regr_results[model_list[modeli]] = [regr]\n",
    "    print(regr.best_estimator_)\n",
    "    alpha_list.append(regr.best_estimator_.alpha)\n",
    "    Y_pred_train = regr.best_estimator_.predict(X_train_norm)\n",
    "\n",
    "    ### now load and pre-process the abrupt-4xCO2 data for the same model accordingly\n",
    "    nt_4xco2 = 1800\n",
    "    X_raw_4xco2 = netCDF4.Dataset(glob.glob('./data/cmip/ta/ta*'+model_list[modeli]+'*4xCO2*.nc')[0])['ta'][:nt_4xco2,1:nr_planes-1,la:lb,:]\n",
    "    ### appearingly strange line follows, but one model does not have the full 150 years\n",
    "    nt_4xco2 = X_raw_4xco2.shape[0]\n",
    "    X_raw_4xco2 = X_raw_4xco2.reshape(nt_4xco2,nr_lon*nr_lat*(nr_planes-2))\n",
    "    X_lag_4xco2 = np.hstack((X_raw_4xco2[lag:,:],X_raw_4xco2[lag-1:-1,:],X_raw_4xco2[lag-2:-2,:]))\n",
    "    Y_raw_4xco2 = netCDF4.Dataset(glob.glob('./data/cmip/hus/hus*'+model_list[modeli]+'*4xCO2*.nc')[0])['hus'][:nt_4xco2,level_selected,0,0]*1e6/0.6213\n",
    "    ### apply scaling of predictors that is consistent with the one for the historical training data\n",
    "    X_lag_4xco2_norm = scaler.transform(X_lag_4xco2)\n",
    "    ### predict monthly mean 4xCO2 Delta/response\n",
    "    Y_pred_4xco2 = np.exp(regr.predict(X_lag_4xco2_norm))\n",
    "    ### load globally averaged surface temperature (to regress against the predicted/true changes in hus)\n",
    "    tas_4xco2 = netCDF4.Dataset(glob.glob('./data/cmip/tas/tas_global_mean/tas*'+model_list[modeli]+'*4xCO2*.nc')[0])['tas'][:nt_4xco2,0,0]\n",
    "    ### prepare annual averaging of data. Since first two months drop our due to lag, start after the first year\n",
    "    Y_pred_4xco2_am = np.empty((int((Y_pred_4xco2.shape[0]-12+lag)/12)))\n",
    "    Y_raw_4xco2_am = np.empty((int((Y_raw_4xco2.shape[0]-12)/12)))\n",
    "    tas_4xco2_am = np.empty((int((tas_4xco2.shape[0]-12)/12)))\n",
    "    for i in np.arange(0,int(Y_pred_4xco2.shape[0]-12+lag),12):\n",
    "        Y_pred_4xco2_am[int(i/12)] = np.mean(Y_pred_4xco2[12-lag+i:24-lag+i],axis=0)\n",
    "        Y_raw_4xco2_am[int(i/12)] = np.mean(Y_raw_4xco2[12+i:24+i],axis=0)\n",
    "        tas_4xco2_am[int(i/12)] = np.mean(tas_4xco2[12+i:24+i],axis=0)\n",
    "    ### estimate true feedback (slope) in ppmv/degree Kelvin warming\n",
    "    res_mm_true_am = stats.linregress(tas_4xco2_am[:],Y_raw_4xco2_am[:])\n",
    "    ### now the same for the predicted feedback\n",
    "    res_mm_pred_am = stats.linregress(tas_4xco2_am[:],Y_pred_4xco2_am[:])\n",
    "    ### save the results\n",
    "    feedbacks_true_am[modeli] = res_mm_true_am.slope\n",
    "    feedbacks_pred_am[modeli] = res_mm_pred_am.slope"
   ]
  },
  {
   "cell_type": "code",
   "execution_count": 18,
   "metadata": {},
   "outputs": [],
   "source": [
    "dict_regr_results['y_true_all'] = y_true_all\n",
    "dict_regr_results['y_pred_all'] = y_pred_all\n",
    "dict_regr_results['feedbacks_true_am'] = feedbacks_true_am\n",
    "dict_regr_results['feedbacks_pred_am'] = feedbacks_pred_am\n",
    "# dict_regr_results['forcings_true_am'] = forcings_true_am\n",
    "# dict_regr_results['forcings_pred_am'] = forcings_pred_am"
   ]
  },
  {
   "cell_type": "code",
   "execution_count": 19,
   "metadata": {},
   "outputs": [
    {
     "data": {
      "text/plain": [
       "['./data/results//models_lag2_5planes_60NS_all_models_final.pkl']"
      ]
     },
     "execution_count": 19,
     "metadata": {},
     "output_type": "execute_result"
    }
   ],
   "source": [
    "joblib.dump(dict_regr_results,'./data/results//models_lag2_5planes_60NS_all_models_final.pkl')"
   ]
  },
  {
   "cell_type": "code",
   "execution_count": null,
   "metadata": {},
   "outputs": [],
   "source": []
  }
 ],
 "metadata": {
  "kernelspec": {
   "display_name": "Python 3",
   "language": "python",
   "name": "python3"
  },
  "language_info": {
   "codemirror_mode": {
    "name": "ipython",
    "version": 3
   },
   "file_extension": ".py",
   "mimetype": "text/x-python",
   "name": "python",
   "nbconvert_exporter": "python",
   "pygments_lexer": "ipython3",
   "version": "3.8.8"
  }
 },
 "nbformat": 4,
 "nbformat_minor": 2
}
